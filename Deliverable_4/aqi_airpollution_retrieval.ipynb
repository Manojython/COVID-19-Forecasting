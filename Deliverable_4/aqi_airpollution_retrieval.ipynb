{
  "nbformat": 4,
  "nbformat_minor": 0,
  "metadata": {
    "kernelspec": {
      "display_name": "Python 3",
      "language": "python",
      "name": "python3"
    },
    "language_info": {
      "codemirror_mode": {
        "name": "ipython",
        "version": 3
      },
      "file_extension": ".py",
      "mimetype": "text/x-python",
      "name": "python",
      "nbconvert_exporter": "python",
      "pygments_lexer": "ipython3",
      "version": "3.7.4"
    },
    "colab": {
      "name": "aqi_airpollution_retrieval.ipynb",
      "provenance": [],
      "collapsed_sections": []
    }
  },
  "cells": [
    {
      "cell_type": "code",
      "metadata": {
        "id": "bY0cwW5puIWI",
        "colab_type": "code",
        "colab": {}
      },
      "source": [
        "import re\n",
        "states = [\"Alaska\",\"Alabama\",\"Arkansas\",\"American Samoa\",\"Arizona\",\"California\",\"Colorado\",\"Connecticut\",\"District of Columbia\",\"Delaware\",\"Florida\",\"Georgia\",\"Guam\",\"Hawaii\",\"Iowa\",\"Idaho\",\"Illinois\",\"Indiana\",\"Kansas\",\"Kentucky\",\"Louisiana\",\"Massachusetts\",\"Maryland\",\"Maine\",\"Michigan\",\"Minnesota\",\"Missouri\",\"Mississippi\",\"Montana\",\"North Carolina\",\"North Dakota\",\"Nebraska\",\"New Hampshire\",\"New Jersey\",\"New Mexico\",\"Nevada\",\"New York\",\"Ohio\",\"Oklahoma\",\"Oregon\",\"Pennsylvania\",\"Puerto Rico\",\"Rhode Island\",\"South Carolina\",\"South Dakota\",\"Tennessee\",\"Texas\",\"Utah\",\"Virginia\",\"Virgin Islands\",\"Vermont\",\"Washington\",\"Wisconsin\",\"West Virginia\",\"Wyoming\"]\n",
        "\n",
        "states_mod = [(lambda x: re.sub(\"[ ,.]\", \"_\", x))(x) for x in states]"
      ],
      "execution_count": 0,
      "outputs": []
    },
    {
      "cell_type": "code",
      "metadata": {
        "id": "AYJ35AabuIWN",
        "colab_type": "code",
        "colab": {
          "base_uri": "https://localhost:8080/",
          "height": 54
        },
        "outputId": "dbc17685-01c2-4ec1-9b4e-20da342b0e5b"
      },
      "source": [
        "dates = []\n",
        "\n",
        "from datetime import timedelta, date\n",
        "\n",
        "def daterange(date1, date2):\n",
        "    for n in range(int ((date2 - date1).days)+1):\n",
        "        yield date1 + timedelta(n)\n",
        "\n",
        "start_dt = date(2020, 1, 24)\n",
        "end_dt = date(2020, 4, 26)\n",
        "for dt in daterange(start_dt, end_dt):\n",
        "    dates.append('{d.year}/{d.month}/{d.day}'.format(d=dt))\n",
        "\n",
        "print(dates)\n"
      ],
      "execution_count": 2,
      "outputs": [
        {
          "output_type": "stream",
          "text": [
            "['2020/1/24', '2020/1/25', '2020/1/26', '2020/1/27', '2020/1/28', '2020/1/29', '2020/1/30', '2020/1/31', '2020/2/1', '2020/2/2', '2020/2/3', '2020/2/4', '2020/2/5', '2020/2/6', '2020/2/7', '2020/2/8', '2020/2/9', '2020/2/10', '2020/2/11', '2020/2/12', '2020/2/13', '2020/2/14', '2020/2/15', '2020/2/16', '2020/2/17', '2020/2/18', '2020/2/19', '2020/2/20', '2020/2/21', '2020/2/22', '2020/2/23', '2020/2/24', '2020/2/25', '2020/2/26', '2020/2/27', '2020/2/28', '2020/2/29', '2020/3/1', '2020/3/2', '2020/3/3', '2020/3/4', '2020/3/5', '2020/3/6', '2020/3/7', '2020/3/8', '2020/3/9', '2020/3/10', '2020/3/11', '2020/3/12', '2020/3/13', '2020/3/14', '2020/3/15', '2020/3/16', '2020/3/17', '2020/3/18', '2020/3/19', '2020/3/20', '2020/3/21', '2020/3/22', '2020/3/23', '2020/3/24', '2020/3/25', '2020/3/26', '2020/3/27', '2020/3/28', '2020/3/29', '2020/3/30', '2020/3/31', '2020/4/1', '2020/4/2', '2020/4/3', '2020/4/4', '2020/4/5', '2020/4/6', '2020/4/7', '2020/4/8', '2020/4/9', '2020/4/10', '2020/4/11', '2020/4/12', '2020/4/13', '2020/4/14', '2020/4/15', '2020/4/16', '2020/4/17', '2020/4/18', '2020/4/19', '2020/4/20', '2020/4/21', '2020/4/22', '2020/4/23', '2020/4/24', '2020/4/25', '2020/4/26']\n"
          ],
          "name": "stdout"
        }
      ]
    },
    {
      "cell_type": "code",
      "metadata": {
        "id": "O6delVBDuIWS",
        "colab_type": "code",
        "colab": {}
      },
      "source": [
        "import requests\n",
        "import json\n",
        "\n",
        "def row_date(eachState, data, eachDate):\n",
        "    for eachCounty in data:\n",
        "        key, value = next(iter(eachCounty.items()))\n",
        "    return [eachState, key, eachDate, value['ozone']]"
      ],
      "execution_count": 0,
      "outputs": []
    },
    {
      "cell_type": "code",
      "metadata": {
        "id": "D7pc2QrEuIWY",
        "colab_type": "code",
        "colab": {}
      },
      "source": [
        "import csv\n",
        "\n",
        "myFields = ['State']+dates\n",
        "\n",
        "myFile = open('countries.csv', 'w')\n",
        "writer = csv.writer(myFile)\n",
        "\n",
        "with myFile:\n",
        "    writer.writerow(['State','County','Date','Ozone'])\n",
        "    for eachState in states_mod:\n",
        "        for eachDate in dates:\n",
        "            url = 'https://airnowgovapi.com/andata/States/'\n",
        "            my_url = url+eachState+'/'+eachDate+'.json'\n",
        "            response = requests.get(my_url,headers={})\n",
        "            try:\n",
        "                res_json = json.loads(response.json())\n",
        "                for eachCounty in res_json['reportingAreas']:\n",
        "                    key, value = next(iter(eachCounty.items()))\n",
        "                    writer.writerow([eachState, key, eachDate, value['ozone']])\n",
        "            except:\n",
        "                writer.writerow([eachState,'NaN','NaN','NaN'])"
      ],
      "execution_count": 0,
      "outputs": []
    },
    {
      "cell_type": "code",
      "metadata": {
        "id": "ZxjcaB7UuIWd",
        "colab_type": "code",
        "colab": {}
      },
      "source": [
        ""
      ],
      "execution_count": 0,
      "outputs": []
    }
  ]
}