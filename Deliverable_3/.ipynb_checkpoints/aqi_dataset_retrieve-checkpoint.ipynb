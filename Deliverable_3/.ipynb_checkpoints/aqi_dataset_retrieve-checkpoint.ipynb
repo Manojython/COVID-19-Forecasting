{
 "cells": [
  {
   "cell_type": "code",
   "execution_count": 1,
   "metadata": {},
   "outputs": [],
   "source": [
    "states = [\"Alaska\",\"Alabama\",\"Arkansas\",\"American Samoa\",\"Arizona\",\"California\",\"Colorado\",\"Connecticut\",\"District of Columbia\",\"Delaware\",\"Florida\",\"Georgia\",\"Guam\",\"Hawaii\",\"Iowa\",\"Idaho\",\"Illinois\",\"Indiana\",\"Kansas\",\"Kentucky\",\"Louisiana\",\"Massachusetts\",\"Maryland\",\"Maine\",\"Michigan\",\"Minnesota\",\"Missouri\",\"Mississippi\",\"Montana\",\"North Carolina\",\" North Dakota\",\"Nebraska\",\"New Hampshire\",\"New Jersey\",\"New Mexico\",\"Nevada\",\"New York\",\"Ohio\",\"Oklahoma\",\"Oregon\",\"Pennsylvania\",\"Puerto Rico\",\"Rhode Island\",\"South Carolina\",\"South Dakota\",\"Tennessee\",\"Texas\",\"Utah\",\"Virginia\",\"Virgin Islands\",\"Vermont\",\"Washington\",\"Wisconsin\",\"West Virginia\",\"Wyoming\"]"
   ]
  },
  {
   "cell_type": "code",
   "execution_count": 2,
   "metadata": {},
   "outputs": [
    {
     "name": "stdout",
     "output_type": "stream",
     "text": [
      "['2020/01/22', '2020/01/23', '2020/01/24', '2020/01/25', '2020/01/26', '2020/01/27', '2020/01/28', '2020/01/29', '2020/01/30', '2020/01/31', '2020/02/01', '2020/02/02', '2020/02/03', '2020/02/04', '2020/02/05', '2020/02/06', '2020/02/07', '2020/02/08', '2020/02/09', '2020/02/10', '2020/02/11', '2020/02/12', '2020/02/13', '2020/02/14', '2020/02/15', '2020/02/16', '2020/02/17', '2020/02/18', '2020/02/19', '2020/02/20', '2020/02/21', '2020/02/22', '2020/02/23', '2020/02/24', '2020/02/25', '2020/02/26', '2020/02/27', '2020/02/28', '2020/02/29', '2020/03/01', '2020/03/02', '2020/03/03', '2020/03/04', '2020/03/05', '2020/03/06', '2020/03/07', '2020/03/08', '2020/03/09', '2020/03/10', '2020/03/11', '2020/03/12', '2020/03/13', '2020/03/14', '2020/03/15', '2020/03/16', '2020/03/17', '2020/03/18', '2020/03/19', '2020/03/20', '2020/03/21', '2020/03/22', '2020/03/23', '2020/03/24', '2020/03/25', '2020/03/26', '2020/03/27', '2020/03/28', '2020/03/29', '2020/03/30', '2020/03/31', '2020/04/01', '2020/04/02', '2020/04/03', '2020/04/04', '2020/04/05', '2020/04/06', '2020/04/07', '2020/04/08', '2020/04/09', '2020/04/10', '2020/04/11', '2020/04/12', '2020/04/13', '2020/04/14', '2020/04/15', '2020/04/16', '2020/04/17', '2020/04/18', '2020/04/19', '2020/04/20', '2020/04/21', '2020/04/22', '2020/04/23', '2020/04/24', '2020/04/25', '2020/04/26']\n"
     ]
    }
   ],
   "source": [
    "dates = []\n",
    "\n",
    "from datetime import timedelta, date\n",
    "\n",
    "def daterange(date1, date2):\n",
    "    for n in range(int ((date2 - date1).days)+1):\n",
    "        yield date1 + timedelta(n)\n",
    "\n",
    "start_dt = date(2020, 1, 22)\n",
    "end_dt = date(2020, 4, 26)\n",
    "for dt in daterange(start_dt, end_dt):\n",
    "    dates.append(dt.strftime(\"%Y/%m/%d\"))\n",
    "\n",
    "print(dates)\n"
   ]
  },
  {
   "cell_type": "code",
   "execution_count": 3,
   "metadata": {},
   "outputs": [
    {
     "ename": "TypeError",
     "evalue": "string indices must be integers",
     "output_type": "error",
     "traceback": [
      "\u001b[1;31m---------------------------------------------------------------------------\u001b[0m",
      "\u001b[1;31mTypeError\u001b[0m                                 Traceback (most recent call last)",
      "\u001b[1;32m<ipython-input-3-a37aa0b9dc6c>\u001b[0m in \u001b[0;36m<module>\u001b[1;34m\u001b[0m\n\u001b[0;32m     17\u001b[0m \u001b[1;33m\u001b[0m\u001b[0m\n\u001b[0;32m     18\u001b[0m \u001b[1;31m# for eachOzone in res_json['reportingAreas']:\u001b[0m\u001b[1;33m\u001b[0m\u001b[1;33m\u001b[0m\u001b[1;33m\u001b[0m\u001b[0m\n\u001b[1;32m---> 19\u001b[1;33m \u001b[0mprint\u001b[0m\u001b[1;33m(\u001b[0m\u001b[0mres_json\u001b[0m\u001b[1;33m[\u001b[0m\u001b[1;34m'reportingAreas'\u001b[0m\u001b[1;33m]\u001b[0m\u001b[1;33m)\u001b[0m\u001b[1;33m\u001b[0m\u001b[1;33m\u001b[0m\u001b[0m\n\u001b[0m\u001b[0;32m     20\u001b[0m \u001b[1;33m\u001b[0m\u001b[0m\n\u001b[0;32m     21\u001b[0m \u001b[1;33m\u001b[0m\u001b[0m\n",
      "\u001b[1;31mTypeError\u001b[0m: string indices must be integers"
     ]
    }
   ],
   "source": [
    "import requests\n",
    "import json, pandas\n",
    "# import http.client\n",
    "# import csv\n",
    "\n",
    "# http.client.HTTPConnection._http_vsn = 10\n",
    "# http.client.HTTPConnection._http_vsn_str = 'HTTP/1.0'\n",
    "\n",
    "\n",
    "\n",
    "url = 'https://airnowgovapi.com/andata/States/North_Carolina/2020/4/26.json'\n",
    "\n",
    "response = requests.get(url,headers={})\n",
    "\n",
    "res_json = json.loads(response.text)\n",
    "\n",
    "\n",
    "# for eachOzone in res_json['reportingAreas']:\n",
    "print(res_json['reportingAreas'])\n",
    "\n",
    "\n",
    "print(json.loads(response.text))\n",
    "# print(response.text)"
   ]
  },
  {
   "cell_type": "code",
   "execution_count": null,
   "metadata": {},
   "outputs": [],
   "source": [
    "# dataFile = open('E:\\Learning\\Jupyter\\covid19\\aqi.csv','w')\n",
    "# csv_writer = csv.writer(dataFile)\n",
    "# count=0\n",
    "# for each in response.json()['features']:\n",
    "#     for i in each.values():\n",
    "#         if count == 0:\n",
    "#             header = i.keys()\n",
    "#             csv_writer.writerow(header)\n",
    "#             count+=1\n",
    "#         csv_writer.writerow(i.values())\n",
    "# #        print(i.values())\n",
    "\n",
    "# dataFile.close()"
   ]
  },
  {
   "cell_type": "code",
   "execution_count": null,
   "metadata": {},
   "outputs": [],
   "source": []
  }
 ],
 "metadata": {
  "kernelspec": {
   "display_name": "Python 3",
   "language": "python",
   "name": "python3"
  },
  "language_info": {
   "codemirror_mode": {
    "name": "ipython",
    "version": 3
   },
   "file_extension": ".py",
   "mimetype": "text/x-python",
   "name": "python",
   "nbconvert_exporter": "python",
   "pygments_lexer": "ipython3",
   "version": "3.7.3"
  }
 },
 "nbformat": 4,
 "nbformat_minor": 2
}
